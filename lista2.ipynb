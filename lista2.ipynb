{
  "nbformat": 4,
  "nbformat_minor": 0,
  "metadata": {
    "colab": {
      "provenance": [],
      "authorship_tag": "ABX9TyM64gMoUgQ1kywrqD7Mv7sA",
      "include_colab_link": true
    },
    "kernelspec": {
      "name": "python3",
      "display_name": "Python 3"
    },
    "language_info": {
      "name": "python"
    }
  },
  "cells": [
    {
      "cell_type": "markdown",
      "metadata": {
        "id": "view-in-github",
        "colab_type": "text"
      },
      "source": [
        "<a href=\"https://colab.research.google.com/github/JPGV07/Aulas-de-Programa-o/blob/main/lista2.ipynb\" target=\"_parent\"><img src=\"https://colab.research.google.com/assets/colab-badge.svg\" alt=\"Open In Colab\"/></a>"
      ]
    },
    {
      "cell_type": "code",
      "execution_count": 18,
      "metadata": {
        "colab": {
          "base_uri": "https://localhost:8080/"
        },
        "id": "0BdXuuVJZdpI",
        "outputId": "4353180e-1f10-4374-8e0f-875de120c1a1"
      },
      "outputs": [
        {
          "output_type": "stream",
          "name": "stdout",
          "text": [
            "[1, 4, 2, 1]\n"
          ]
        }
      ],
      "source": [
        "notas=[1,5,8,4,2,1]\n",
        "menores=[notas for notas in notas if notas<5]\n",
        "print(menores)"
      ]
    },
    {
      "cell_type": "code",
      "source": [
        "quadrados=[x**2 for x in range(10)]\n",
        "print(quadrados)"
      ],
      "metadata": {
        "colab": {
          "base_uri": "https://localhost:8080/"
        },
        "id": "_1vhoSpWbNkH",
        "outputId": "0c412162-602b-4cce-99cc-ec06ee640715"
      },
      "execution_count": 13,
      "outputs": [
        {
          "output_type": "stream",
          "name": "stdout",
          "text": [
            "[0, 1, 4, 9, 16, 25, 36, 49, 64, 81]\n"
          ]
        }
      ]
    },
    {
      "cell_type": "code",
      "source": [
        "numeros=[1,2,3,4,5,6]\n",
        "pares=[n for n in numeros if n%2==0]\n",
        "print(pares)"
      ],
      "metadata": {
        "colab": {
          "base_uri": "https://localhost:8080/"
        },
        "id": "0gp-rE9RdnVt",
        "outputId": "8d1d62fc-0deb-4b59-9626-15d4dc0ebb6d"
      },
      "execution_count": 21,
      "outputs": [
        {
          "output_type": "stream",
          "name": "stdout",
          "text": [
            "[2, 4, 6]\n"
          ]
        }
      ]
    },
    {
      "cell_type": "code",
      "source": [
        "#Strings\n",
        "nome='Joao'\n",
        "for letra in nome:\n",
        "  print(letra)\n",
        "print(len(nome))# tamnhos da string\n",
        "print(nome.upper())#todos os caracteres maiusculos\n",
        "print(nome.lower())#todos os caracteres minusculos"
      ],
      "metadata": {
        "id": "QBQ_jMw0d5DM"
      },
      "execution_count": null,
      "outputs": []
    },
    {
      "cell_type": "code",
      "source": [
        "nome=['João','Ana','Epamilondas','Godofredo','Lair','Setembrino']\n",
        "lista=[nome for nome in nome if len(nome)>4]\n",
        "print(lista)\n"
      ],
      "metadata": {
        "id": "txp0NUVufDpE"
      },
      "execution_count": null,
      "outputs": []
    },
    {
      "cell_type": "code",
      "source": [
        "nome=['João','Ana','Epamilondas','Godofredo','Lair','Setembrino']\n",
        "listas=[nome.upper() for nome in nome if len(nome)<5]\n",
        "print(listas)"
      ],
      "metadata": {
        "colab": {
          "base_uri": "https://localhost:8080/"
        },
        "id": "7aKHTroagvvI",
        "outputId": "2ff05179-70e4-4155-86b5-b3eeaf8d3d6c"
      },
      "execution_count": 49,
      "outputs": [
        {
          "output_type": "stream",
          "name": "stdout",
          "text": [
            "['JOÃO', 'ANA', 'LAIR']\n"
          ]
        }
      ]
    },
    {
      "cell_type": "code",
      "source": [
        "dobro_impares=[n*2 for n in numeros if n%2 !=0]\n",
        "print(dobro_impares)"
      ],
      "metadata": {
        "colab": {
          "base_uri": "https://localhost:8080/"
        },
        "id": "UU1k1jOIiLzw",
        "outputId": "0a344dbe-a610-40d7-a92c-9b23453b2edb"
      },
      "execution_count": 50,
      "outputs": [
        {
          "output_type": "stream",
          "name": "stdout",
          "text": [
            "[2, 6, 10]\n"
          ]
        }
      ]
    },
    {
      "cell_type": "code",
      "source": [
        "notas=[9.0,4.5,2.3,6.0,8.5,5.3]#atribuir dois pontos para notas menores de 5\n",
        "nota=[notas+2 for notas in notas if notas< 5 ]\n",
        "print(nota)"
      ],
      "metadata": {
        "colab": {
          "base_uri": "https://localhost:8080/"
        },
        "id": "eZZByDrIijwC",
        "outputId": "48cf2a93-5bac-401a-bbab-7cc7d2136c06"
      },
      "execution_count": 52,
      "outputs": [
        {
          "output_type": "stream",
          "name": "stdout",
          "text": [
            "[6.5, 4.3]\n"
          ]
        }
      ]
    },
    {
      "cell_type": "code",
      "source": [
        "soma= lambda a,b : a+b\n",
        "print(soma(10,5))"
      ],
      "metadata": {
        "colab": {
          "base_uri": "https://localhost:8080/"
        },
        "id": "NBG1Y5ZBjtJo",
        "outputId": "6e5bfd54-4838-4bcf-ad7f-3f3d0e4aa59f"
      },
      "execution_count": 53,
      "outputs": [
        {
          "output_type": "stream",
          "name": "stdout",
          "text": [
            "15\n"
          ]
        }
      ]
    },
    {
      "cell_type": "code",
      "source": [
        "d=lambda a: a/2\n",
        "print(d(120))"
      ],
      "metadata": {
        "colab": {
          "base_uri": "https://localhost:8080/"
        },
        "id": "w6S-MLyVlU-S",
        "outputId": "36349a7d-e0bd-4d9c-dda1-88c2ebbb2ca1"
      },
      "execution_count": 60,
      "outputs": [
        {
          "output_type": "stream",
          "name": "stdout",
          "text": [
            "60.0\n"
          ]
        }
      ]
    },
    {
      "cell_type": "code",
      "source": [
        "#map() função aplica uma função a cada item de um iteravel(como uma li um novo iterador com os valores transformados)\n",
        "n=[2,3,4,5,6,7,8]\n",
        "quadrados=list(map(lambda x: x **2,n))\n",
        "print(quadrados)"
      ],
      "metadata": {
        "colab": {
          "base_uri": "https://localhost:8080/"
        },
        "id": "IWCE7Ya7l3Ih",
        "outputId": "2bf75cad-12f1-4cc9-d6a9-5a087d069f2c"
      },
      "execution_count": 65,
      "outputs": [
        {
          "output_type": "stream",
          "name": "stdout",
          "text": [
            "[4, 9, 16, 25, 36, 49, 64]\n"
          ]
        }
      ]
    },
    {
      "cell_type": "code",
      "source": [
        "dobro=list(map(lambda X: X*2,n))\n",
        "print(dobro)"
      ],
      "metadata": {
        "colab": {
          "base_uri": "https://localhost:8080/"
        },
        "id": "I4bQjK0Jm0j_",
        "outputId": "bfb6c124-07cd-4c02-982a-3931782362b1"
      },
      "execution_count": 67,
      "outputs": [
        {
          "output_type": "stream",
          "name": "stdout",
          "text": [
            "[0, 2, 4, 6, 8, 10, 12, 14, 16, 18, 20, 22, 24, 26, 28, 30, 32, 34, 36, 38]\n"
          ]
        }
      ]
    },
    {
      "cell_type": "code",
      "source": [
        "p=['é','Hoje','My','ConsaGrated']\n",
        "li=list(map(lambda x: x.upper,p))\n",
        "print(li)"
      ],
      "metadata": {
        "id": "A6gdhV4ynYw7"
      },
      "execution_count": null,
      "outputs": []
    },
    {
      "cell_type": "code",
      "source": [
        "numeros=[1,2,3,4]\n",
        "pares=list(filter(lambda x: x%2==0,numeros))\n",
        "print(pares)"
      ],
      "metadata": {
        "id": "7d-S_yiUottn"
      },
      "execution_count": null,
      "outputs": []
    },
    {
      "cell_type": "code",
      "source": [
        "nomes=['Cristiano','Alien','Ary','Bete','Já']\n",
        "fit=list(filter(lambda x : len(x)>4,nomes))\n",
        "print(fit)"
      ],
      "metadata": {
        "id": "2brEhkLkpETv"
      },
      "execution_count": null,
      "outputs": []
    },
    {
      "cell_type": "code",
      "source": [
        "ter=[1,2,9,10,23,63,5,34,54]\n",
        "f=list(filter(lambda x: x>10,ter))\n",
        "print(f)"
      ],
      "metadata": {
        "id": "FvF051B0qap7"
      },
      "execution_count": null,
      "outputs": []
    },
    {
      "cell_type": "code",
      "source": [
        "numeros=[3,7,2,8,1,4,10]\n",
        "yu=list(map(lambda x:x*2, numeros))\n",
        "print(yu)"
      ],
      "metadata": {
        "id": "fVN21dYyrU6X"
      },
      "execution_count": null,
      "outputs": []
    },
    {
      "cell_type": "code",
      "source": [
        "pa=list(filter(lambda x: x%2==0,numeros))\n",
        "print(pa)"
      ],
      "metadata": {
        "id": "AvUrjirIr_18"
      },
      "execution_count": null,
      "outputs": []
    },
    {
      "cell_type": "code",
      "source": [
        "lista=[1,23,4,67,2,34,57]\n",
        "paresimpares=[n*2 if n %2==0\n",
        "              else n\n",
        "              for n in numeros]\n",
        "print(paresimpares)"
      ],
      "metadata": {
        "id": "Y6ItS9OKsZeD"
      },
      "execution_count": null,
      "outputs": []
    }
  ]
}