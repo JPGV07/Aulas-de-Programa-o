{
  "nbformat": 4,
  "nbformat_minor": 0,
  "metadata": {
    "colab": {
      "provenance": [],
      "authorship_tag": "ABX9TyPazF1iq8bom95pcBzAR4FU",
      "include_colab_link": true
    },
    "kernelspec": {
      "name": "python3",
      "display_name": "Python 3"
    },
    "language_info": {
      "name": "python"
    }
  },
  "cells": [
    {
      "cell_type": "markdown",
      "metadata": {
        "id": "view-in-github",
        "colab_type": "text"
      },
      "source": [
        "<a href=\"https://colab.research.google.com/github/JPGV07/Aulas-de-Programa-o/blob/main/if%2Celse.ipynb\" target=\"_parent\"><img src=\"https://colab.research.google.com/assets/colab-badge.svg\" alt=\"Open In Colab\"/></a>"
      ]
    },
    {
      "cell_type": "code",
      "execution_count": 1,
      "metadata": {
        "id": "3p20YB2sQw5x",
        "colab": {
          "base_uri": "https://localhost:8080/"
        },
        "outputId": "d9973046-f5cd-4df8-baf4-b2415084a415"
      },
      "outputs": [
        {
          "output_type": "stream",
          "name": "stdout",
          "text": [
            "Nome da Pessoa:lua\n",
            "Nome da Rua:rua\n",
            "Numero da casa:23\n",
            "Bairro:lopa\n",
            "Cidade:pessoa\n",
            "CEP:24467\n",
            "lua, residente à rua rua, 23, lopa,24467, pessoa\n"
          ]
        }
      ],
      "source": [
        "A=input('Nome da Pessoa:')\n",
        "B=input('Nome da Rua:')\n",
        "C=input('Numero da casa:')\n",
        "D=input('Bairro:')\n",
        "E=input('Cidade:')\n",
        "F=input('CEP:')\n",
        "print(f\"{A}, residente à rua {B}, {C}, {D},{F}, {E}\")"
      ]
    },
    {
      "cell_type": "code",
      "execution_count": 2,
      "metadata": {
        "colab": {
          "base_uri": "https://localhost:8080/"
        },
        "id": "Jit4mDQQQ1e9",
        "outputId": "5c1074a0-2a1f-43a7-896e-1b379c2c8658"
      },
      "outputs": [
        {
          "output_type": "stream",
          "name": "stdout",
          "text": [
            "insira um numéro:34\n",
            "insira um numéro:7689\n",
            "7723.0\n"
          ]
        }
      ],
      "source": [
        "num1=float(input('insira um numéro:'))\n",
        "num2=float(input('insira um numéro:'))\n",
        "num3=(num1+num2)\n",
        "print(num3)"
      ]
    },
    {
      "cell_type": "code",
      "source": [
        "A=float(input('Peso:'))\n",
        "B=float(input('Altura:'))\n",
        "IMC (int= A/B**2)\n",
        "print(IMC)"
      ],
      "metadata": {
        "colab": {
          "base_uri": "https://localhost:8080/"
        },
        "id": "rFu5fbw2RW9h",
        "outputId": "1bba8b99-0b27-4182-9624-59df43b1e4a7"
      },
      "execution_count": 3,
      "outputs": [
        {
          "output_type": "stream",
          "name": "stdout",
          "text": [
            "Peso:34\n",
            "Altura:1.90\n",
            "9.418282548476455\n"
          ]
        }
      ]
    },
    {
      "cell_type": "code",
      "source": [
        "tempC=float(input('Qual a temperatura?'))\n",
        "tempFah=(tempC*9/5)+32\n",
        "print(tempFah)"
      ],
      "metadata": {
        "colab": {
          "base_uri": "https://localhost:8080/"
        },
        "id": "H8BtgImpSR06",
        "outputId": "02bcd5b9-f780-467a-8d5f-faed9f251a45"
      },
      "execution_count": 4,
      "outputs": [
        {
          "output_type": "stream",
          "name": "stdout",
          "text": [
            "Qual a temperatura?23\n",
            "73.4\n"
          ]
        }
      ]
    },
    {
      "cell_type": "markdown",
      "source": [
        "IF ELSE"
      ],
      "metadata": {
        "id": "gO_FgWqcS48y"
      }
    },
    {
      "cell_type": "code",
      "source": [
        "\n",
        "#if cria uma condição(verdadeiro)\n",
        "I=12\n",
        "if I>18:\n",
        "  print('É maior de idade')"
      ],
      "metadata": {
        "id": "z6b7YpBQSYZB"
      },
      "execution_count": 8,
      "outputs": []
    },
    {
      "cell_type": "code",
      "source": [
        "#else nega uma condição(falso)\n",
        "I=12\n",
        "if I>18:\n",
        "  print('É maior de idade')\n",
        "else:\n",
        "  print('É menor de idade')"
      ],
      "metadata": {
        "colab": {
          "base_uri": "https://localhost:8080/"
        },
        "id": "hbHJ6YQHU25x",
        "outputId": "a8aa4da8-e7e7-42cc-f7be-7800ad324018"
      },
      "execution_count": 9,
      "outputs": [
        {
          "output_type": "stream",
          "name": "stdout",
          "text": [
            "É menor de idade\n"
          ]
        }
      ]
    },
    {
      "cell_type": "code",
      "source": [
        "#elif procura a condição certa\n",
        "I=float(input('Idade:'))\n",
        "if I>=60:\n",
        "  print('É idoso')\n",
        "elif I>=35:\n",
        "  print(\"é meia idade\")\n",
        "elif I>=18:\n",
        "  print('É Adulto')\n",
        "else:\n",
        "  print('É menor')\n"
      ],
      "metadata": {
        "colab": {
          "base_uri": "https://localhost:8080/"
        },
        "id": "fQf8gIrgWKAX",
        "outputId": "49e56d31-255c-4e31-f491-83bedb8124a5"
      },
      "execution_count": 16,
      "outputs": [
        {
          "output_type": "stream",
          "name": "stdout",
          "text": [
            "Idade:56\n",
            "é meia idade\n"
          ]
        }
      ]
    },
    {
      "cell_type": "code",
      "source": [
        "C=float(input('Valor da compra:'))\n",
        "if C<=100:\n",
        "  print('Sem desconto')              #professor\n",
        "elif C<=500:\n",
        "  print(int(C*10/100))               #print(c*0.1)\n",
        "elif C<=1000:\n",
        "  print(int(C*20/100))               #print(c*0.2)\n",
        "else:\n",
        "  print(int(C*30/100))               #print(c*0.3)"
      ],
      "metadata": {
        "colab": {
          "base_uri": "https://localhost:8080/"
        },
        "id": "7OGA6RBFY2gL",
        "outputId": "9dd78fdb-f7ce-467e-a5f8-4690751a7e6d"
      },
      "execution_count": 26,
      "outputs": [
        {
          "output_type": "stream",
          "name": "stdout",
          "text": [
            "Valor da compra:124365\n",
            "37309\n"
          ]
        }
      ]
    },
    {
      "cell_type": "markdown",
      "source": [
        "Estruturas aninhadas"
      ],
      "metadata": {
        "id": "JKsDf13PeJjQ"
      }
    },
    {
      "cell_type": "code",
      "source": [
        "#Duas condições\n",
        "I=23\n",
        "CNH=True\n",
        "if I>18:\n",
        "  if CNH:\n",
        "   print('Pode dirigir')#Da mais um espaço para que não atrapalhe a outra condição\n",
        "  else:\n",
        "   print('Sem habilitação,não pode derigir')\n",
        "else:\n",
        "  print('Menor de idade')"
      ],
      "metadata": {
        "colab": {
          "base_uri": "https://localhost:8080/"
        },
        "id": "utbYhdpmeDJ5",
        "outputId": "2566e948-9880-436d-a3ff-f68b91e57a27"
      },
      "execution_count": 35,
      "outputs": [
        {
          "output_type": "stream",
          "name": "stdout",
          "text": [
            "Pode dirigir\n"
          ]
        }
      ]
    }
  ]
}