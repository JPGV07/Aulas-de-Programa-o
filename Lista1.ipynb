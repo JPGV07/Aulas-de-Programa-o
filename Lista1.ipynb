{
  "nbformat": 4,
  "nbformat_minor": 0,
  "metadata": {
    "colab": {
      "provenance": [],
      "authorship_tag": "ABX9TyM9k+pjW2+63Z5YgODnyBAb",
      "include_colab_link": true
    },
    "kernelspec": {
      "name": "python3",
      "display_name": "Python 3"
    },
    "language_info": {
      "name": "python"
    }
  },
  "cells": [
    {
      "cell_type": "markdown",
      "metadata": {
        "id": "view-in-github",
        "colab_type": "text"
      },
      "source": [
        "<a href=\"https://colab.research.google.com/github/JPGV07/Aulas-de-Programa-o/blob/main/Lista1.ipynb\" target=\"_parent\"><img src=\"https://colab.research.google.com/assets/colab-badge.svg\" alt=\"Open In Colab\"/></a>"
      ]
    },
    {
      "cell_type": "code",
      "execution_count": 4,
      "metadata": {
        "colab": {
          "base_uri": "https://localhost:8080/"
        },
        "id": "jOP-rKZEPSSH",
        "outputId": "452b766a-43c4-4c69-dc3e-0982b70ce1bf"
      },
      "outputs": [
        {
          "output_type": "stream",
          "name": "stdout",
          "text": [
            "['banana', 'maçã', 'laranja', 'pera', 'limão']\n"
          ]
        }
      ],
      "source": [
        "# imprimi lista\n",
        "frutas=['banana','maçã','laranja','pera','limão']\n",
        "print(frutas)"
      ]
    },
    {
      "cell_type": "code",
      "source": [
        "#tamanho da lista (len(lista))\n",
        "print(len(frutas))"
      ],
      "metadata": {
        "colab": {
          "base_uri": "https://localhost:8080/"
        },
        "id": "gidITNWISrA3",
        "outputId": "fbc5b6a9-d331-4106-f17d-105c22ea04d8"
      },
      "execution_count": 6,
      "outputs": [
        {
          "output_type": "stream",
          "name": "stdout",
          "text": [
            "5\n"
          ]
        }
      ]
    },
    {
      "cell_type": "code",
      "source": [
        "#Count-quantas vezes aparece um valor\n",
        "frutas=['laranja','laranja','laranja','limão']\n",
        "print(frutas.count('laranja'))"
      ],
      "metadata": {
        "colab": {
          "base_uri": "https://localhost:8080/"
        },
        "id": "7L4q2lSITCOi",
        "outputId": "5d5717f2-abc3-4391-86da-bf7343e0f602"
      },
      "execution_count": 10,
      "outputs": [
        {
          "output_type": "stream",
          "name": "stdout",
          "text": [
            "3\n"
          ]
        }
      ]
    },
    {
      "cell_type": "code",
      "source": [
        "#imprimir elementos da lista pelo indice\n",
        "carros=['gol','uno','fiesta','lada','marajo','voyage']\n",
        "print(carros[0])#gol\n",
        "print(carros[1])#uno\n",
        "print(carros[2])#fiesta\n",
        "print(carros[-1])#voyage\n",
        "print(carros[2:5])#Slice do indece 2 ao indece 4\n",
        "print(carros[:4])#Slice ate o 3\n",
        "print(carros[2:])#slide a parti do indece 2\n",
        "print(carros[7])# out index"
      ],
      "metadata": {
        "id": "7y8AR95CTt5U"
      },
      "execution_count": null,
      "outputs": []
    },
    {
      "cell_type": "code",
      "source": [
        "#adiciona elemento a lista\n",
        "frutas.append('goiaba')\n",
        "print(frutas)"
      ],
      "metadata": {
        "colab": {
          "base_uri": "https://localhost:8080/"
        },
        "id": "jb-7ox5SVSp8",
        "outputId": "bbace0b4-15bb-4331-a1c1-287e72ed5fd7"
      },
      "execution_count": 13,
      "outputs": [
        {
          "output_type": "stream",
          "name": "stdout",
          "text": [
            "['laranja', 'laranja', 'laranja', 'limão', 'goiaba', 'goiaba', 'goiaba']\n"
          ]
        }
      ]
    },
    {
      "cell_type": "code",
      "source": [
        "#manda usuario coloca coisa na lista\n",
        "fruta=input('Frutas:')\n",
        "frutas.append(fruta)\n",
        "print(frutas)\n"
      ],
      "metadata": {
        "colab": {
          "base_uri": "https://localhost:8080/"
        },
        "id": "IM-RApe8WilQ",
        "outputId": "2de753f9-46d5-4bee-8cc2-39ae3d3c48f7"
      },
      "execution_count": 17,
      "outputs": [
        {
          "output_type": "stream",
          "name": "stdout",
          "text": [
            "Frutas:laranja\n",
            "['laranja', 'laranja', 'laranja', 'limão', 'goiaba', 'goiaba', 'goiaba', 'goiaba', 'laranja']\n"
          ]
        }
      ]
    },
    {
      "cell_type": "code",
      "source": [
        "carros=[]\n",
        "carro = input('Digite o carro: ')\n",
        "while carros!='0':\n",
        "  carros.append(carros)\n",
        "  carros = input('Digite o carros')\n",
        "print(carros)\n",
        "print(len(carros))"
      ],
      "metadata": {
        "id": "kAetx6IiX1fN"
      },
      "execution_count": null,
      "outputs": []
    },
    {
      "cell_type": "code",
      "source": [
        "num1 =[2,4,5,2,3,7,8,2,5]\n",
        "A = input('Coloque o número: ')\n",
        "if A in num1:\n",
        " print(num1.count[A])\n",
        "else:\n",
        " print('Não existe')"
      ],
      "metadata": {
        "colab": {
          "base_uri": "https://localhost:8080/"
        },
        "id": "UcvuIcyublmd",
        "outputId": "51245551-e4f0-486c-ebf2-208044657905"
      },
      "execution_count": 34,
      "outputs": [
        {
          "output_type": "stream",
          "name": "stdout",
          "text": [
            "Coloque o número: 5\n",
            "Não existe\n"
          ]
        }
      ]
    },
    {
      "cell_type": "code",
      "source": [
        "#remover valores pop()\n",
        "carros=['gol','uno','fiesta','lada','marajo','voyage']\n",
        "carros.pop()\n",
        "print(carros)"
      ],
      "metadata": {
        "id": "2Vqph7OVdy_l"
      },
      "execution_count": null,
      "outputs": []
    },
    {
      "cell_type": "code",
      "source": [
        "#pop pelo indice\n",
        "carros=['gol','uno','fiesta','lada','marajo','voyage']\n",
        "ind=carros.index('uno')#encontre o indice\n",
        "carros.pop(0)#removendo pelo indice\n",
        "print(carros)#resultado"
      ],
      "metadata": {
        "colab": {
          "base_uri": "https://localhost:8080/"
        },
        "id": "FKfJhxTBeYPS",
        "outputId": "00a6894e-17a8-48dd-935e-04f5b3bd6295"
      },
      "execution_count": 53,
      "outputs": [
        {
          "output_type": "stream",
          "name": "stdout",
          "text": [
            "['uno', 'fiesta', 'lada', 'marajo', 'voyage']\n"
          ]
        }
      ]
    },
    {
      "cell_type": "code",
      "source": [
        "#del lista[index]\n",
        "nums=[4,5,3,2,6,8]\n",
        "del nums[4]\n",
        "print(nums)"
      ],
      "metadata": {
        "colab": {
          "base_uri": "https://localhost:8080/"
        },
        "id": "S-r63CeTfhpR",
        "outputId": "efc5d930-91b7-4ac1-9024-dc7fd60f0902"
      },
      "execution_count": 55,
      "outputs": [
        {
          "output_type": "stream",
          "name": "stdout",
          "text": [
            "[4, 5, 3, 2, 8]\n"
          ]
        }
      ]
    },
    {
      "cell_type": "code",
      "source": [
        "#remove() só o primeiro valor especificado\n",
        "lista=['jaca','melão','manga','graviola','jaca']\n",
        "lista.remove('jaca')\n",
        "print(lista)"
      ],
      "metadata": {
        "id": "iwH081wegEXa"
      },
      "execution_count": null,
      "outputs": []
    },
    {
      "cell_type": "code",
      "source": [
        "#list  comprehension\n",
        "lista=['jaca','melão','manga','graviola','jaca']\n",
        "fruta_remover= 'jaca'\n",
        "lista=[x for x in lista if x!= fruta_remover]\n",
        "print(lista)"
      ],
      "metadata": {
        "colab": {
          "base_uri": "https://localhost:8080/"
        },
        "id": "3Y9MpvJwgnv8",
        "outputId": "eadcaefd-6dab-4da1-cb77-458ff50b9848"
      },
      "execution_count": 59,
      "outputs": [
        {
          "output_type": "stream",
          "name": "stdout",
          "text": [
            "['melão', 'manga', 'graviola']\n"
          ]
        }
      ]
    },
    {
      "cell_type": "code",
      "source": [
        "notas=[6,8,5,4,7,7,9,3,6]\n",
        "notas=[x for x in notas if x >=6 ]\n",
        "print(notas)"
      ],
      "metadata": {
        "id": "jpqyOwMthSt8"
      },
      "execution_count": null,
      "outputs": []
    },
    {
      "cell_type": "code",
      "source": [
        "lista=[]\n",
        "print(\"MENU\")\n",
        "n1=print(input('1=Adiciona Tarefa'))\n",
        "n2=print(input('2=Remover Tarefa'))\n",
        "n3=print(input('Lista de Tarefas'))\n",
        "n4=print('Sair')\n",
        "A = input('Escolha a opção:')\n",
        "if A==n1:\n",
        " print(lista.append(n1))\n",
        "elif A==n2:\n",
        "  print(lista.pop(n2))\n",
        "else:\n",
        "  print(lista)"
      ],
      "metadata": {
        "colab": {
          "base_uri": "https://localhost:8080/"
        },
        "id": "eZNk4Susi3Wy",
        "outputId": "14e0e896-28c0-402f-db4a-d9a1ae2165ee"
      },
      "execution_count": 76,
      "outputs": [
        {
          "output_type": "stream",
          "name": "stdout",
          "text": [
            "MENU\n",
            "1=Adiciona Tarefa1,2,3,4,5,6,7\n",
            "1,2,3,4,5,6,7\n",
            "2=Remover Tarefa1\n",
            "1\n",
            "Lista de Tarefaslista\n",
            "lista\n",
            "Sair\n",
            "Escolha a opção:lista\n",
            "[]\n"
          ]
        }
      ]
    }
  ]
}