{
  "nbformat": 4,
  "nbformat_minor": 0,
  "metadata": {
    "colab": {
      "provenance": [],
      "authorship_tag": "ABX9TyP9N5KieBu90tK0J3jsLvKP",
      "include_colab_link": true
    },
    "kernelspec": {
      "name": "python3",
      "display_name": "Python 3"
    },
    "language_info": {
      "name": "python"
    }
  },
  "cells": [
    {
      "cell_type": "markdown",
      "metadata": {
        "id": "view-in-github",
        "colab_type": "text"
      },
      "source": [
        "<a href=\"https://colab.research.google.com/github/JPGV07/Aulas-de-Programa-o/blob/main/fun%C3%A7%C3%B5espyton1.ipynb\" target=\"_parent\"><img src=\"https://colab.research.google.com/assets/colab-badge.svg\" alt=\"Open In Colab\"/></a>"
      ]
    },
    {
      "cell_type": "code",
      "execution_count": 1,
      "metadata": {
        "colab": {
          "base_uri": "https://localhost:8080/"
        },
        "id": "4vbJVk5wkHaX",
        "outputId": "e8d5e463-22f0-4fb2-b369-155112c2eb7e"
      },
      "outputs": [
        {
          "output_type": "stream",
          "name": "stdout",
          "text": [
            "ola, estou dentro da funcao\n"
          ]
        }
      ],
      "source": [
        "def saudacao(): #nomear\n",
        "  print('ola, estou dentro da funcao')\n",
        "saudacao()\n",
        "def somar():\n",
        "  print(5+8)\n",
        "somar()"
      ]
    },
    {
      "cell_type": "code",
      "source": [
        "def somar(a,b):\n",
        "  return a+b\n",
        "a = somar(5,6)\n",
        "print(a+a+a)"
      ],
      "metadata": {
        "colab": {
          "base_uri": "https://localhost:8080/"
        },
        "id": "i1TkO3_bnokP",
        "outputId": "77b577eb-c603-4b5b-d0a5-f43ff0b976e7"
      },
      "execution_count": 3,
      "outputs": [
        {
          "output_type": "stream",
          "name": "stdout",
          "text": [
            "33\n"
          ]
        }
      ]
    },
    {
      "cell_type": "code",
      "source": [
        "def quadrado(a):\n",
        "  return a**2\n",
        "b = int(input('seu numero'))\n",
        "resultado = quadrado(b)\n",
        "print(resultado)"
      ],
      "metadata": {
        "colab": {
          "base_uri": "https://localhost:8080/"
        },
        "id": "bgHMlinFoQfu",
        "outputId": "42d25937-be65-4380-bdab-266e49c8f0ee"
      },
      "execution_count": 15,
      "outputs": [
        {
          "output_type": "stream",
          "name": "stdout",
          "text": [
            "seu numero12\n",
            "144\n"
          ]
        }
      ]
    },
    {
      "cell_type": "code",
      "source": [
        "#parametro(default)\n",
        "def exibir_horario_aulas(disciplina,horario=9):\n",
        "  print(f'{disciplina}-{horario} horas.')\n",
        "exibir_horario_aulas('Programação')\n",
        "exibir_horario_aulas('Modelagem de Software',15)"
      ],
      "metadata": {
        "colab": {
          "base_uri": "https://localhost:8080/"
        },
        "id": "YQY2J28Wp6uG",
        "outputId": "52b7262b-73d9-41aa-bf24-3bb347063ae7"
      },
      "execution_count": 16,
      "outputs": [
        {
          "output_type": "stream",
          "name": "stdout",
          "text": [
            "Programação-9 horas.\n",
            "Modelagem de Software-15 horas.\n"
          ]
        }
      ]
    },
    {
      "cell_type": "code",
      "source": [
        "def exibir_produto(nome,preço):\n",
        "  print(f'{nome}: R${preço}')\n",
        "#Argumentos posicionais\n",
        "exibir_produto('doce de leite',5.50)\n",
        "exibir_produto(65,'bermuda')\n",
        "#Argumentos nomeados\n",
        "exibir_produto(preço=100,nome='Camiseta')"
      ],
      "metadata": {
        "colab": {
          "base_uri": "https://localhost:8080/"
        },
        "id": "_vRFAD3orNmg",
        "outputId": "009c749a-23ac-4400-cee2-fe11961c8d58"
      },
      "execution_count": 19,
      "outputs": [
        {
          "output_type": "stream",
          "name": "stdout",
          "text": [
            "doce de leite: R$5.5\n",
            "65: R$bermuda\n",
            "Camiseta: R$100\n"
          ]
        }
      ]
    },
    {
      "cell_type": "code",
      "source": [
        "def exibir_jogo(*,nome_jogo,ano_lancamento):\n",
        "  print(f'{nome_jogo},lancamento em {ano_lancamento}')\n",
        "#apenas um parametro de ser nomeado\n",
        "def exibir_produto(nome,*,preço):\n",
        "  print(f'{nome}:R${preço}')\n",
        "exibir_jogo(nome_jogo='Minecraft',ano_lancamento=2009)\n",
        "exibir_produto('Alicate',preço=20)"
      ],
      "metadata": {
        "colab": {
          "base_uri": "https://localhost:8080/"
        },
        "id": "ZpOH5pi9sgxs",
        "outputId": "50e95cdf-1b42-49f8-b468-4de22f550c4d"
      },
      "execution_count": 21,
      "outputs": [
        {
          "output_type": "stream",
          "name": "stdout",
          "text": [
            "Minecraft,lancamento em 2009\n",
            "Alicate:R$20\n"
          ]
        }
      ]
    },
    {
      "cell_type": "code",
      "source": [
        "def gerar_presonagem_game(nome,altura,*,forca,arma):\n",
        "  print(f'seu nome é {nome},sua altura {altura},sua poder é {forca},sua arma é {arma}')\n",
        "gerar_presonagem_game('Soma cruz','1.75',forca='dominacia',arma='claimh sword')"
      ],
      "metadata": {
        "colab": {
          "base_uri": "https://localhost:8080/"
        },
        "id": "zb4ztMgbuRYs",
        "outputId": "802f9213-1041-442e-abf1-ee3fb5ff84f4"
      },
      "execution_count": 31,
      "outputs": [
        {
          "output_type": "stream",
          "name": "stdout",
          "text": [
            "seu nome é Soma cruz,sua altura 1.75,sua poder é dominacia,sua arma é claimh sword\n"
          ]
        }
      ]
    },
    {
      "cell_type": "code",
      "source": [
        "def somanotas(*args):\n",
        "  return sum(args)\n",
        "print(somanotas(7,8,3,10,9,2.1,7))"
      ],
      "metadata": {
        "colab": {
          "base_uri": "https://localhost:8080/"
        },
        "id": "-tTuGy3txRZp",
        "outputId": "d3cc37a7-2eac-44a1-8172-a0d19b4f95e1"
      },
      "execution_count": 30,
      "outputs": [
        {
          "output_type": "stream",
          "name": "stdout",
          "text": [
            "46.1\n"
          ]
        }
      ]
    },
    {
      "cell_type": "code",
      "source": [
        "def somar_nums(*valores,a):\n",
        "  print(valores)\n",
        "  for valor in valores:\n",
        "    a+=valor\n",
        "  print(a)\n",
        "somar_nums(1,1,1,1,1,a=10)"
      ],
      "metadata": {
        "colab": {
          "base_uri": "https://localhost:8080/"
        },
        "id": "idG4x75_yCna",
        "outputId": "7d865e58-beb1-49e1-e20e-8ff0008d6623"
      },
      "execution_count": 33,
      "outputs": [
        {
          "output_type": "stream",
          "name": "stdout",
          "text": [
            "(1, 1, 1, 1, 1)\n",
            "15\n"
          ]
        }
      ]
    },
    {
      "cell_type": "code",
      "source": [
        "#Kwargs\n",
        "def concatenar(**palavras):\n",
        "  frase=''\n",
        "  for palavra in palavras.values():\n",
        "    frase += palavra\n",
        "  print(frase)\n",
        "concatenar(a='Eu ',b='é ' ,c='hequer')"
      ],
      "metadata": {
        "colab": {
          "base_uri": "https://localhost:8080/"
        },
        "id": "dy0Bolt7ysDM",
        "outputId": "8b2ba24c-9bb2-457c-aaad-dcf650c16a7d"
      },
      "execution_count": 36,
      "outputs": [
        {
          "output_type": "stream",
          "name": "stdout",
          "text": [
            "Eu é hequer\n"
          ]
        }
      ]
    },
    {
      "cell_type": "code",
      "source": [
        "def calcula(nome,*args,**kwargs):\n",
        "  print(nome)\n",
        "  print(args)\n",
        "  print(kwargs)\n",
        "  for arg in args:\n",
        "    print(arg)\n",
        "  for kwarg in kwargs.values():\n",
        "    print(kwarg)\n",
        "\n",
        "calcula('josé',1,1,1,1,a=10,b=10,c=10)"
      ],
      "metadata": {
        "colab": {
          "base_uri": "https://localhost:8080/"
        },
        "id": "PR-b4bIE0Trd",
        "outputId": "e1e8a82f-0668-4684-8ece-9897baf2b513"
      },
      "execution_count": 43,
      "outputs": [
        {
          "output_type": "stream",
          "name": "stdout",
          "text": [
            "josé\n",
            "(1, 1, 1, 1)\n",
            "{'a': 10, 'b': 10, 'c': 10}\n",
            "1\n",
            "1\n",
            "1\n",
            "1\n",
            "10\n",
            "10\n",
            "10\n"
          ]
        }
      ]
    },
    {
      "cell_type": "code",
      "source": [
        "def somar_valores(*args):\n",
        "  return sum(args)\n",
        "print(somar_valores(2,5,3,7,3))"
      ],
      "metadata": {
        "colab": {
          "base_uri": "https://localhost:8080/"
        },
        "id": "N9ZGj-Rl1hPu",
        "outputId": "1a75821f-f971-4ce1-c48b-a8a6a183f2a9"
      },
      "execution_count": 45,
      "outputs": [
        {
          "output_type": "stream",
          "name": "stdout",
          "text": [
            "20\n"
          ]
        }
      ]
    },
    {
      "cell_type": "code",
      "source": [
        "def exibir_perfil(nome,*args,**kwargs):\n",
        "  print(nome)\n",
        "  print(args)\n",
        "  print(kwargs)\n",
        "  for arg in args:\n",
        "    print(arg)\n",
        "  for kwarg in kwargs.values():\n",
        "    print(kwargs)\n",
        "print(exibir_perfil(joao,\"hobbie\"a=joga,\"cidade\"b=joao pessoa,\"idade\"c=17))"
      ],
      "metadata": {
        "colab": {
          "base_uri": "https://localhost:8080/",
          "height": 106
        },
        "id": "TdaXQ5Dc2V-3",
        "outputId": "e3596c7b-bf45-4d7c-c512-4227e594b373"
      },
      "execution_count": 96,
      "outputs": [
        {
          "output_type": "error",
          "ename": "SyntaxError",
          "evalue": "invalid syntax. Perhaps you forgot a comma? (<ipython-input-96-bcb09663ff18>, line 9)",
          "traceback": [
            "\u001b[0;36m  File \u001b[0;32m\"<ipython-input-96-bcb09663ff18>\"\u001b[0;36m, line \u001b[0;32m9\u001b[0m\n\u001b[0;31m    print(exibir_perfil(joao,\"hobbie\"a=joga,\"cidade\"b=joao pessoa,\"idade\"c=17))\u001b[0m\n\u001b[0m                             ^\u001b[0m\n\u001b[0;31mSyntaxError\u001b[0m\u001b[0;31m:\u001b[0m invalid syntax. Perhaps you forgot a comma?\n"
          ]
        }
      ]
    },
    {
      "cell_type": "code",
      "source": [
        "def multiplica_todos(*args):\n",
        "  return 2*(args)\n",
        "print(multiplica_todos(2))"
      ],
      "metadata": {
        "colab": {
          "base_uri": "https://localhost:8080/"
        },
        "id": "43qUCLSH3ZH3",
        "outputId": "aa5bf154-37be-4665-ed1f-0a776cc8cb88"
      },
      "execution_count": 93,
      "outputs": [
        {
          "output_type": "stream",
          "name": "stdout",
          "text": [
            "(2, 2, 2, 2)\n"
          ]
        }
      ]
    },
    {
      "cell_type": "code",
      "source": [
        "from datetime import date,datetime\n",
        "data_atual= date.today()\n",
        "data_hora_atual = datetime.now()\n",
        "print(data_atual)\n",
        "print(data_hora_atual)"
      ],
      "metadata": {
        "colab": {
          "base_uri": "https://localhost:8080/"
        },
        "id": "jdD6dYOw63ym",
        "outputId": "a11254bd-a7b9-421c-ba4e-8a9d65571ec7"
      },
      "execution_count": 84,
      "outputs": [
        {
          "output_type": "stream",
          "name": "stdout",
          "text": [
            "2025-05-13\n",
            "2025-05-13 13:55:55.534787\n"
          ]
        }
      ]
    },
    {
      "cell_type": "code",
      "source": [
        "#data formatada\n",
        "data_fomatada=data_atual.strftime(\"%d/%m/%Y\")\n",
        "data_completa=data_atual.strftime(\"%D/%M/%Y  %H:%M:%S\")\n",
        "print(data_fomatada)\n",
        "print(data_completa)"
      ],
      "metadata": {
        "colab": {
          "base_uri": "https://localhost:8080/"
        },
        "id": "TEG_kwlr8fR0",
        "outputId": "ecf9b17a-c7ad-4f20-8f53-506991e29e7e"
      },
      "execution_count": 100,
      "outputs": [
        {
          "output_type": "stream",
          "name": "stdout",
          "text": [
            "13/05/2025\n",
            "05/13/25/00/2025  00:00:00\n"
          ]
        }
      ]
    }
  ]
}