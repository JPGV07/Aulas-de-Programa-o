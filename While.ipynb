{
  "nbformat": 4,
  "nbformat_minor": 0,
  "metadata": {
    "colab": {
      "provenance": [],
      "authorship_tag": "ABX9TyOshPc7ygUuvLGgvME6BYyq",
      "include_colab_link": true
    },
    "kernelspec": {
      "name": "python3",
      "display_name": "Python 3"
    },
    "language_info": {
      "name": "python"
    }
  },
  "cells": [
    {
      "cell_type": "markdown",
      "metadata": {
        "id": "view-in-github",
        "colab_type": "text"
      },
      "source": [
        "<a href=\"https://colab.research.google.com/github/JPGV07/Aulas-de-Programa-o/blob/main/While.ipynb\" target=\"_parent\"><img src=\"https://colab.research.google.com/assets/colab-badge.svg\" alt=\"Open In Colab\"/></a>"
      ]
    },
    {
      "cell_type": "markdown",
      "source": [
        "2 João"
      ],
      "metadata": {
        "id": "VQpuHp8DK5T-"
      }
    },
    {
      "cell_type": "code",
      "execution_count": 26,
      "metadata": {
        "colab": {
          "base_uri": "https://localhost:8080/"
        },
        "id": "AanSc17LKzAi",
        "outputId": "6888cc18-e53f-431c-c9b6-39a06ddf5580"
      },
      "outputs": [
        {
          "output_type": "stream",
          "name": "stdout",
          "text": [
            "informe o número: 4\n",
            "informe o número:4\n",
            "A e B são iguais\n"
          ]
        }
      ],
      "source": [
        "A=float(input(\"informe o número: \"))\n",
        "B=float(input(\"informe o número:\"))\n",
        "if A>B:\n",
        "  print(\"A é maior\")\n",
        "elif B>A:            #professor\n",
        "   print(\"B é maior\")#professor\n",
        "else:\n",
        "  print(\"A e B são iguais\")"
      ]
    },
    {
      "cell_type": "markdown",
      "source": [
        "3 João"
      ],
      "metadata": {
        "id": "xpywR-XQOeJg"
      }
    },
    {
      "cell_type": "code",
      "source": [
        "A=float(input(\"primeira nota:\"))\n",
        "B=float(input(\"Segunda nota:\"))\n",
        "C=float(input(\"terceira nota:\"))\n",
        "D=((A+B+C)/3)\n",
        "if D>=7:\n",
        "  print(f\" {D} Aluno aprovado\")\n",
        "elif D>=4:\n",
        "  print(f\"{D} Recuperação\")\n",
        "else:\n",
        "  print(f\"{D} Reprovado\")"
      ],
      "metadata": {
        "colab": {
          "base_uri": "https://localhost:8080/"
        },
        "id": "8rhyqXf0Od24",
        "outputId": "b04c0208-6a33-499f-cca2-d456914424e6"
      },
      "execution_count": 98,
      "outputs": [
        {
          "output_type": "stream",
          "name": "stdout",
          "text": [
            "primeira nota:10\n",
            "Segunda nota:10\n",
            "terceira nota:10\n",
            " 10.0 Aluno aprovado\n"
          ]
        }
      ]
    },
    {
      "cell_type": "markdown",
      "source": [
        "1(professor)\n"
      ],
      "metadata": {
        "id": "Z9EO7886QJ6D"
      }
    },
    {
      "cell_type": "code",
      "source": [
        "A=int(input(\"Coloque o número:\"))\n",
        "if A % 2==0:\n",
        "  print(\"é par\")\n",
        "else:\n",
        "  print(\"é impar\")"
      ],
      "metadata": {
        "colab": {
          "base_uri": "https://localhost:8080/"
        },
        "id": "z8Nd9j3hQOGy",
        "outputId": "e620fd4a-9eec-4eb2-d9d6-6405c8be8651"
      },
      "execution_count": 17,
      "outputs": [
        {
          "output_type": "stream",
          "name": "stdout",
          "text": [
            "Coloque o número:23\n",
            "é impar\n"
          ]
        }
      ]
    },
    {
      "cell_type": "markdown",
      "source": [
        "while"
      ],
      "metadata": {
        "id": "zukBMcSjT16D"
      }
    },
    {
      "cell_type": "code",
      "source": [
        "contador=0\n",
        "while contador<10:\n",
        "  print(contador)\n",
        "  contador=contador+1"
      ],
      "metadata": {
        "colab": {
          "base_uri": "https://localhost:8080/"
        },
        "id": "iuzKqCWVUmOA",
        "outputId": "e06110d7-fb4d-4711-bd32-a19571d91961"
      },
      "execution_count": 36,
      "outputs": [
        {
          "output_type": "stream",
          "name": "stdout",
          "text": [
            "0\n",
            "1\n",
            "2\n",
            "3\n",
            "4\n",
            "5\n",
            "6\n",
            "7\n",
            "8\n",
            "9\n"
          ]
        }
      ]
    },
    {
      "cell_type": "code",
      "source": [
        "A=0\n",
        "while A<20:\n",
        "  print(A)\n",
        "  A=A+1"
      ],
      "metadata": {
        "id": "TuooobRwV9wN"
      },
      "execution_count": null,
      "outputs": []
    },
    {
      "cell_type": "code",
      "source": [
        "A=10         #professor\n",
        "while A>0:\n",
        "  print(A)\n",
        "  A=A-1"
      ],
      "metadata": {
        "colab": {
          "base_uri": "https://localhost:8080/"
        },
        "id": "oUH8WIosWhZ1",
        "outputId": "26ffd182-06d8-4364-bb1f-443703303bd4"
      },
      "execution_count": 53,
      "outputs": [
        {
          "output_type": "stream",
          "name": "stdout",
          "text": [
            "10\n",
            "9\n",
            "8\n",
            "7\n",
            "6\n",
            "5\n",
            "4\n",
            "3\n",
            "2\n",
            "1\n"
          ]
        }
      ]
    },
    {
      "cell_type": "code",
      "source": [
        "A=1\n",
        "while A<10:\n",
        "  A+=1\n",
        "  if A%2==0:\n",
        "    print(A)"
      ],
      "metadata": {
        "colab": {
          "base_uri": "https://localhost:8080/"
        },
        "id": "PlXHzGwuXx4_",
        "outputId": "28e67d01-53f1-4263-b517-e9ec051e51c9"
      },
      "execution_count": 52,
      "outputs": [
        {
          "output_type": "stream",
          "name": "stdout",
          "text": [
            "2\n",
            "4\n",
            "6\n",
            "8\n",
            "10\n"
          ]
        }
      ]
    },
    {
      "cell_type": "code",
      "source": [
        "A=int(input(\"Digite seu número:\"))\n",
        "while A!=0:\n",
        "  print(A**2)\n",
        "  A=int(input(\"Insira seu número,novamente:\"))"
      ],
      "metadata": {
        "id": "PDoAC0RAYiAb"
      },
      "execution_count": null,
      "outputs": []
    },
    {
      "cell_type": "code",
      "source": [
        "while True:\n",
        "  A=int(input(\"digite seu numero:\"))\n",
        "  if A==0: break\n",
        "  else:print(A**2)"
      ],
      "metadata": {
        "id": "LE74YBzmbgn4"
      },
      "execution_count": null,
      "outputs": []
    },
    {
      "cell_type": "markdown",
      "source": [
        "for"
      ],
      "metadata": {
        "id": "Urk7WcVQdH4X"
      }
    },
    {
      "cell_type": "code",
      "source": [
        "for A in range(1,11):\n",
        " print(A)"
      ],
      "metadata": {
        "id": "SkEaZGWFdI4f"
      },
      "execution_count": null,
      "outputs": []
    },
    {
      "cell_type": "code",
      "source": [
        "for A in range(10,0,-1):\n",
        "  print(A)"
      ],
      "metadata": {
        "id": "hwgsa4Z4dvmK"
      },
      "execution_count": null,
      "outputs": []
    },
    {
      "cell_type": "code",
      "source": [
        "for A in range(0,21):\n",
        "  print(A)"
      ],
      "metadata": {
        "id": "W6dt5EOSd9Yy"
      },
      "execution_count": null,
      "outputs": []
    },
    {
      "cell_type": "code",
      "source": [
        "soma=0\n",
        "for A in range(1,101):\n",
        "  soma+=A\n",
        "print(soma)"
      ],
      "metadata": {
        "colab": {
          "base_uri": "https://localhost:8080/"
        },
        "id": "pKrbKBoceGzC",
        "outputId": "7a22a0f0-c819-4cdb-8921-f4ce9da1e190"
      },
      "execution_count": 82,
      "outputs": [
        {
          "output_type": "stream",
          "name": "stdout",
          "text": [
            "5050\n"
          ]
        }
      ]
    },
    {
      "cell_type": "code",
      "source": [
        "for A in range(1,11):\n",
        "  if A%2!=0:\n",
        "    print(A)"
      ],
      "metadata": {
        "colab": {
          "base_uri": "https://localhost:8080/"
        },
        "id": "vpqVWR0Cg2_j",
        "outputId": "78cfff21-d580-4758-863a-3a156530fbd6"
      },
      "execution_count": 86,
      "outputs": [
        {
          "output_type": "stream",
          "name": "stdout",
          "text": [
            "1\n",
            "3\n",
            "5\n",
            "7\n",
            "9\n"
          ]
        }
      ]
    },
    {
      "cell_type": "code",
      "source": [
        "import random\n",
        "A = random.randint(0,100)\n",
        "print(A)"
      ],
      "metadata": {
        "colab": {
          "base_uri": "https://localhost:8080/"
        },
        "id": "cttbWNyliSrF",
        "outputId": "0b67032d-1199-4031-fee1-a40f40c9aa46"
      },
      "execution_count": 95,
      "outputs": [
        {
          "output_type": "stream",
          "name": "stdout",
          "text": [
            "34\n"
          ]
        }
      ]
    }
  ]
}